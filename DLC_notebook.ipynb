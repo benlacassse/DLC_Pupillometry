{
 "cells": [
  {
   "cell_type": "markdown",
   "id": "5a3ad8db",
   "metadata": {},
   "source": [
    "Welcome to this DeepLabCut module designed for mouse pupillometry utilizing pre-trained networks. Should you wish to perform video analysis without making any adjustments to the existing setups, there is no need to alter the code within the \"Notebook_functions.py\" file. Just follow the provided instructions below. Nevertheless, feel free to make modifications to the code if you intend to implement filters or other enhancements.\n",
    "\n",
    "Best regards,\n",
    "Benjamin Lacasse, Université Laval"
   ]
  },
  {
   "cell_type": "code",
   "execution_count": null,
   "id": "7f08a214",
   "metadata": {},
   "outputs": [],
   "source": [
    "''' If you have correctly created your conda environment (located in the repository), \n",
    "you should be able to import deeplabcut succesfully '''\n",
    "\n",
    "import deeplabcut"
   ]
  },
  {
   "cell_type": "code",
   "execution_count": null,
   "id": "d66de2ff-2283-426f-ab78-af4e10a119cf",
   "metadata": {},
   "outputs": [],
   "source": [
    "deeplabcut.__version__"
   ]
  },
  {
   "cell_type": "code",
   "execution_count": null,
   "id": "12ca7324",
   "metadata": {},
   "outputs": [],
   "source": [
    "'''To initiate the analysis, simply execute this cell. \n",
    "The initial parameter should be the folder's name containing the videos for analysis, even \n",
    "if it contains only one video. The video files should by of types tolerated by the imageio \n",
    "library, which includes popular formats like MP4, AVI, MOV, and more. Then, indicate whether \n",
    "you wish to compute and save the numpy arrays of vertical and horizontal distances in their \n",
    "respective folders. For enhanced analysis speed, you can opt to skip frames using the \n",
    "\"frame_skip=1\" parameter: a value of 1 will analyze every frame, whereas a value of 10 will \n",
    "analyze just one in every ten frames, resulting in shorter .csv and numpy arrays.'''\n",
    "\n",
    "from Notebook_functions import analysis\n",
    "\n",
    "analysis('Name_of_video_folder', numpy_array=True, frame_skip=1)"
   ]
  },
  {
   "cell_type": "code",
   "execution_count": null,
   "id": "f2f63d6c",
   "metadata": {},
   "outputs": [],
   "source": [
    "''' Here you can simply print and download the graphs of the numpy arrays \n",
    "by inserting the name of the same folder as previously in the function. '''\n",
    "from Notebook_functions import dlc_plot\n",
    "\n",
    "dlc_plot('Name_of_video_folder')"
   ]
  }
 ],
 "metadata": {
  "kernelspec": {
   "display_name": "Python 3 (ipykernel)",
   "language": "python",
   "name": "python3"
  },
  "language_info": {
   "codemirror_mode": {
    "name": "ipython",
    "version": 3
   },
   "file_extension": ".py",
   "mimetype": "text/x-python",
   "name": "python",
   "nbconvert_exporter": "python",
   "pygments_lexer": "ipython3",
   "version": "3.8.17"
  }
 },
 "nbformat": 4,
 "nbformat_minor": 5
}
